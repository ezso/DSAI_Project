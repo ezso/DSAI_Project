{
 "cells": [
  {
   "cell_type": "code",
   "execution_count": 1,
   "id": "079fa6ab",
   "metadata": {},
   "outputs": [],
   "source": [
    "import xml.etree.ElementTree as ET"
   ]
  },
  {
   "cell_type": "code",
   "execution_count": 2,
   "id": "e5641b0c",
   "metadata": {},
   "outputs": [],
   "source": [
    "def xml2text(xml_path, output_file=None):\n",
    "    # ALTO XML uses a default namespace\n",
    "    ns = {'alto': 'http://www.loc.gov/standards/alto/ns-v3#'}\n",
    "\n",
    "    # Parse the XML file\n",
    "    tree = ET.parse(xml_path)\n",
    "    root = tree.getroot()\n",
    "\n",
    "    lines = []\n",
    "\n",
    "    # Traverse each TextLine in the XML\n",
    "    for text_line in root.findall('.//alto:TextLine', ns):\n",
    "        words = [string.attrib.get(\"CONTENT\", \"\") for string in text_line.findall(\"alto:String\", ns)]\n",
    "        line_text = \" \".join(words)\n",
    "        if line_text.strip():\n",
    "            lines.append(line_text)\n",
    "\n",
    "    full_text = \"\\n\".join(lines)\n",
    "\n",
    "    # Optionally save to file\n",
    "    if output_file:\n",
    "        with open(output_file, \"w\", encoding=\"utf-8\") as f:\n",
    "            f.write(full_text)"
   ]
  },
  {
   "cell_type": "code",
   "execution_count": 1,
   "id": "fbe3e6c1",
   "metadata": {},
   "outputs": [],
   "source": [
    "import requests\n",
    "\n",
    "api_key = \"OYSi9Dygc0XZ0Nvq2vgPxe4oXNmomCtWWZHM7CVd3Fo7iC0qKge1748029090188\"  \n",
    "headers = {\n",
    "    \"Authorization\": f'OAuth oauth_consumer_key=\"{api_key}\"',\n",
    "    \"Accept\": \"application/json\",\n",
    "}\n",
    "\n",
    "item_url = f\"https://api.deutsche-digitale-bibliothek.de/items/SYPRUTDU2J2V62O2SDIJE6LFPD6G2VBB\"\n",
    "response = requests.get(item_url, headers=headers)"
   ]
  },
  {
   "cell_type": "code",
   "execution_count": 2,
   "id": "f9baa16d",
   "metadata": {},
   "outputs": [
    {
     "name": "stdout",
     "output_type": "stream",
     "text": [
      "200\n"
     ]
    }
   ],
   "source": [
    "print(response.status_code)"
   ]
  },
  {
   "cell_type": "code",
   "execution_count": 10,
   "id": "44ebe481",
   "metadata": {},
   "outputs": [
    {
     "name": "stdout",
     "output_type": "stream",
     "text": [
      "Issued: 1920-01-25, Type: <class 'str'>\n",
      "Publisher: Berlin : Vorwärts-Verlag, Type: <class 'str'>\n"
     ]
    }
   ],
   "source": [
    "data = response.json()\n",
    "issued = data['edm']['RDF']['ProvidedCHO']['issued']\n",
    "publisher = data['edm']['RDF']['ProvidedCHO']['publisher']['$']\n",
    "print(f\"Issued: {issued}, Type: {type(issued)}\")\n",
    "print(f\"Publisher: {publisher}, Type: {type(publisher)}\")"
   ]
  },
  {
   "cell_type": "code",
   "execution_count": null,
   "id": "cc97f685",
   "metadata": {},
   "outputs": [],
   "source": [
    "def extract_metadata(data):\n",
    "    record = data.get(\"source\", {}).get(\"record\", {})\n",
    "    metadata = {\n",
    "        \"publisher\": \"Unknown\",\n",
    "        \"publication_date\": \"Unknown\"\n",
    "    }\n",
    "\n",
    "    try:\n",
    "        mods = record.get(\"mods:mods\", {})\n",
    "        metadata[\"publisher\"] = mods.get(\"mods:originInfo\", {}).get(\"mods:publisher\", \"Unknown\")\n",
    "        metadata[\"publication_date\"] = mods.get(\"mods:originInfo\", {}).get(\"mods:dateIssued\", \"Unknown\")\n",
    "    except Exception:\n",
    "        pass  # Return default \"Unknown\" if keys are missing\n",
    "\n",
    "    return metadata"
   ]
  },
  {
   "cell_type": "code",
   "execution_count": 9,
   "id": "ae9eb7d3",
   "metadata": {},
   "outputs": [
    {
     "name": "stdout",
     "output_type": "stream",
     "text": [
      "{'title': 'Unknown', 'publisher': 'Unknown', 'publication_date': 'Unknown'}\n"
     ]
    }
   ],
   "source": [
    "\n",
    "meta = extract_metadata(data)\n",
    "issued = data['edm']['RDF']['ProvidedCHO']['issued']\n",
    "publisher = data['edm']['RDF']['ProvidedCHO']['publisher']['$']\n",
    "print(meta)"
   ]
  },
  {
   "cell_type": "code",
   "execution_count": null,
   "id": "62851000",
   "metadata": {},
   "outputs": [],
   "source": [
    "{\n",
    "'properties': {\n",
    "    'item-id': 'SYPRUTDU2J2V62O2SDIJE6LFPD6G2VBB', \n",
    "    'dataset-id': '30678710177457952dKCx', \n",
    "    'dataset-label': 'Gesamtlieferung (Zeitungsportal) - Bibliothek FES (oid1611770703208) - METS/MODS', \n",
    "    'revision-id': '2', \n",
    "    'ingest-date': '2023-02-24T14:18:52+0100', \n",
    "    'cortex-type': 'Kultur', \n",
    "    'mapping-version': '4.5'}, \n",
    "'edm': {\n",
    "    'RDF': {\n",
    "        'Aggregation': {\n",
    "            '@about': 'http://www.zvdd.de/record/DE-Bo133/VW37045/dmd', \n",
    "            'aggregatedCHO': {'@resource': 'http://www.deutsche-digitale-bibliothek.de/item/SYPRUTDU2J2V62O2SDIJE6LFPD6G2VBB'}, \n",
    "            'dataProvider': ['Bibliothek der Friedrich-Ebert-Stiftung', {'@resource': 'http://www.deutsche-digitale-bibliothek.de/organization/CZTZO4SBNHW34JVKYRWW67725WWGLZA5'}], \n",
    "            'isShownAt': {'@resource': 'http://fes.imageware.de/fes/web/index.html?open=VW37045'}, \n",
    "            'isShownBy': {'@resource': 'https://library.fes.de/ddb/vw37045/VW37045_01.jpg'}, \n",
    "            'provider': 'Deutsche Digitale Bibliothek', \n",
    "            'rights': [{'@resource': 'http://creativecommons.org/licenses/by-nc-sa/3.0/'}, {'@resource': 'http://creativecommons.org/licenses/by-nc-sa/3.0/de/'}], \n",
    "            '$': '\\n'}, \n",
    "        'Agent': [\n",
    "            {\n",
    "                '@about': 'http://www.deutsche-digitale-bibliothek.de/organization/CZTZO4SBNHW34JVKYRWW67725WWGLZA5', \n",
    "                'prefLabel': 'Bibliothek der Friedrich-Ebert-Stiftung', \n",
    "                'type': {'@resource': 'http://ddb.vocnet.org/sparte/sparte002'}, \n",
    "                'isPartOf': {'@resource': 'http://www.deutsche-digitale-bibliothek.de/organization/WQFEVKHWJSOL5OGCEQHKHOVCB3K65SSV'}, \n",
    "                '$': '\\n'\n",
    "            }, \n",
    "            {\n",
    "                '@about': 'http://www.deutsche-digitale-bibliothek.de/organization/WQFEVKHWJSOL5OGCEQHKHOVCB3K65SSV', \n",
    "                'prefLabel': 'Archiv der sozialen Demokratie der Friedrich-Ebert-Stiftung', \n",
    "                '$': '\\n'\n",
    "            }, \n",
    "            {\n",
    "                '@about': 'MRYYE54BVOWI5TUZGRXZQRD2YN44WISO', \n",
    "                'prefLabel': 'Vorwärts-Verlag', \n",
    "                'wasPresentAt': {'@resource': 'EIK7JCGU775QPYFHAYGTZ3V5GCFOLMWX'}, \n",
    "                '$': '\\n'\n",
    "            }], \n",
    "        'Concept': [\n",
    "            {'@about': 'http://ddb.vocnet.org/sparte/sparte002', 'notation': 'sec_02', '$': '\\n'}, \n",
    "            {'@about': 'http://ddb.vocnet.org/medientyp/mt003', 'notation': 'mediatype_003', '$': '\\n'}, \n",
    "            {'@about': 'http://ddb.vocnet.org/medientyp/mt003', 'notation': 'mediatype_003', '$': '\\n'}, \n",
    "            {'@about': 'http://ddb.vocnet.org/hierarchietyp/ht014', 'prefLabel': {'@lang': 'de', '$': 'Heft'}, '$': '\\n'}], \n",
    "        'WebResource': [\n",
    "            {\n",
    "                '@about': 'http://fes.imageware.de/fes/web/index.html?open=VW37045', \n",
    "                'type': {'@resource': 'http://ddb.vocnet.org/medientyp/mt003'}, \n",
    "                '$': '\\n'\n",
    "            }, \n",
    "            {\n",
    "                '@about': 'https://library.fes.de/ddb/vw37045/VW37045_01.jpg', \n",
    "                'rights': {'@resource': 'http://creativecommons.org/licenses/by-nc-sa/3.0/de/'}, \n",
    "                'type': {'@resource': 'http://ddb.vocnet.org/medientyp/mt003'}, \n",
    "                'created': '2021', \n",
    "                '$': '\\n'\n",
    "            }], \n",
    "        'ProvidedCHO': {\n",
    "            '@about': 'http://www.deutsche-digitale-bibliothek.de/item/SYPRUTDU2J2V62O2SDIJE6LFPD6G2VBB', \n",
    "            'hasType': {'@resource': 'http://ddb.vocnet.org/hierarchietyp/ht014'}, \n",
    "            'hasMet': {'@resource': 'EIK7JCGU775QPYFHAYGTZ3V5GCFOLMWX'}, \n",
    "            'type': {'@lang': 'de', '$': 'Heft'}, \n",
    "            'identifier': ['http://fes.imageware.de/fes/web/index.html?open=VW37045', 'http://www.zvdd.de/object/DE-Bo133/VW37045/log', 'Bibliothek der Friedrich-Ebert-Stiftung -- XX 500'], \n",
    "            'language': {'@resource': 'http://id.loc.gov/vocabulary/iso639-2/ger'}, \n",
    "            'publisher': {'@lang': 'zxx', '$': 'Berlin : Vorwärts-Verlag'}, \n",
    "            'title': {'@lang': 'zxx', '$': 'Vorwärts'}, \n",
    "            'extent': '12 Seiten', \n",
    "            'issued': '1920-01-25', \n",
    "            'hierarchyType': 'htype_014', \n",
    "            '$': '\\n'}, 'LinguisticSystem': {'@about': 'http://id.loc.gov/vocabulary/iso639-2/ger', 'value': 'ger', '$': '\\n'}, 'Event': {'@about': 'EIK7JCGU775QPYFHAYGTZ3V5GCFOLMWX', 'hasType': {'@resource': 'http://terminology.lido-schema.org/eventType/publication'}, 'P11_had_participant': {'@resource': 'MRYYE54BVOWI5TUZGRXZQRD2YN44WISO'}, 'occuredAt': {'@resource': 'JGSW5TGAKM2VD6TCPHQPQUNXS4IGD6DR'}, '$': '\\n'}, 'TimeSpan': {'@about': 'JGSW5TGAKM2VD6TCPHQPQUNXS4IGD6DR', 'begin': '1920-01-25', 'end': '1920-01-25', '$': '\\n'}, '$': '\\n'}}, 'indexing-profile': {'item-id': 'SYPRUTDU2J2V62O2SDIJE6LFPD6G2VBB', 'facet': [{'@name': 'affiliate_fct', 'value': 'Vorwärts-Verlag'}, {'@name': 'affiliate_fct_autocomplete', 'value': 'Vorwärts-Verlag'}, {'@name': 'affiliate_fct_role', 'value': ['Vorwärts-Verlag', 'Vorwärts-Verlag_1_affiliate_fct_involved']}, {'@name': 'affiliate_fct_role_autocomplete', 'value': ['Vorwärts-Verlag', 'Vorwärts-Verlag_1_affiliate_fct_involved']}, {'@name': 'keywords_fct', 'value': 'Heft'}, {'@name': 'keywords_fct_autocomplete', 'value': 'Heft'}, {'@name': 'keywords_fct_normdata', 'value': 'http://ddb.vocnet.org/hierarchietyp/ht014'}, {'@name': 'objecttype_fct', 'value': 'Heft'}, {'@name': 'objecttype_fct_autocomplete', 'value': 'Heft'}, {'@name': 'language_fct', 'value': 'ger'}, {'@name': 'type_fct', 'value': 'mediatype_003'}, {'@name': 'provider_fct', 'value': ['Bibliothek der Friedrich-Ebert-Stiftung', 'Archiv der sozialen Demokratie der Friedrich-Ebert-Stiftung']}, {'@name': 'provider_fct_autocomplete', 'value': ['Bibliothek der Friedrich-Ebert-Stiftung', 'Archiv der sozialen Demokratie der Friedrich-Ebert-Stiftung']}, {'@name': 'provider_fct_normdata', 'value': ['http://www.deutsche-digitale-bibliothek.de/organization/CZTZO4SBNHW34JVKYRWW67725WWGLZA5', 'http://www.deutsche-digitale-bibliothek.de/organization/WQFEVKHWJSOL5OGCEQHKHOVCB3K65SSV']}, {'@name': 'sector_fct', 'value': 'sec_02'}, {'@name': 'last_update', 'value': '2023-02-24T14:18:52+0100'}]}, 'preview': {'@media': 'text', '@type': 'Kultur', 'title': 'Vorwärts', 'subtitle': '1920-01-25', 'thumbnail': {'@href': 'e861414f-6d88-4bf1-bfe7-48b98c17ffdc'}}, 'view': {'item': {'identifier': 'http://www.zvdd.de/object/DE-Bo133/VW37045/log', 'label': 'Vorwärts', 'title': 'Vorwärts', 'subtitle': '', 'rights': '', 'metadata-rights': 'http://creativecommons.org/licenses/by-nc-sa/3.0/de/', 'origin': 'http://fes.imageware.de/fes/web/index.html?open=VW37045', 'category': 'Kultur', 'media': 'text', 'thumbnail': '', 'latitude': '', 'longitude': '', 'viewers': {'viewer': {'name': {'@id': 'dfgKey', '$': 'DFG-Viewer'}, 'url': 'http://dfg-viewer.de/show/?tx_dlf[id]/tx_dlf[page]'}}, 'license': {'@resource': 'http://creativecommons.org/licenses/by-nc-sa/3.0/de/', '$': ''}, 'institution': {'url': '', 'id': 'CZTZO4SBNHW34JVKYRWW67725WWGLZA5', 'name': 'Bibliothek der Friedrich-Ebert-Stiftung', 'logo-institution-ddbid': 'CZTZO4SBNHW34JVKYRWW67725WWGLZA5'}, 'fields': [{'@usage': 'display', 'field': [{'@id': 'flex_bibl_003', 'name': 'Dokumenttyp', 'value': 'Heft'}, {'@id': 'flex_bibl_004', 'name': 'Erschienen in', 'value': 'Vorwärts'}, {'@id': 'flex_bibl_008', 'name': 'Sprache', 'value': 'Deutsch'}, {'@id': 'flex_bibl_009', 'name': 'Umfang', 'value': '12 Seiten'}, {'@id': 'flex_bibl_013a', 'name': 'PURL', 'value': 'http://fes.imageware.de/fes/web/index.html?open=VW37045'}, {'@id': 'flex_bibl_014', 'name': 'Standort', 'value': 'Bibliothek der Friedrich-Ebert-Stiftung -- XX 500'}]}, {'@usage': 'index', 'field': [{'@id': 'title', '@resource': 'http://purl.org/dc/elements/1.1/title', 'name': 'Title', 'value': 'Vorwärts'}, {'@id': 'ranking', 'name': 'Ranking', 'value': 'Heft'}, {'@id': 'begin_time', 'name': 'Anfang', 'value': '700925'}, {'@id': 'end_time', 'name': 'Ende', 'value': '700925'}, {'@id': 'license', 'name': 'Lizenz', 'value': 'http://creativecommons.org/licenses/by-nc-sa/3.0/de/'}, {'@id': 'license_group', 'name': 'Lizenzstatus', 'value': 'rights_002'}, {'@id': 'digitalisat', 'name': 'digitalisat', 'value': 'true'}, {'@id': 'dataset_id', 'name': 'dataset_id', 'value': '30678710177457952dKCx'}, {'@id': 'dataset_label', 'name': 'dataset_label', 'value': 'Gesamtlieferung (Zeitungsportal) - Bibliothek FES (oid1611770703208) - METS/MODS'}, {'@id': 'delivery_id', 'name': 'delivery_id', 'value': '30698936812512492Jhis'}, {'@id': 'supplier_id', 'name': 'supplier_id', 'value': 'oid1643883383221'}, {'@id': 'mapping_version', 'name': 'mapping_version', 'value': '4.5'}, {'@id': 'md_format', 'name': 'Metadata Format', 'value': 'newspaper-mets'}, {'@id': 'source_format', 'name': 'source_format', 'value': 'http://www.loc.gov/METS/'}]}]}},\n",
    "\n",
    "\n",
    "\n",
    "\n"
   ]
  },
  {
   "cell_type": "code",
   "execution_count": null,
   "id": "130a10d6",
   "metadata": {},
   "outputs": [],
   "source": []
  }
 ],
 "metadata": {
  "kernelspec": {
   "display_name": "kraken-env",
   "language": "python",
   "name": "python3"
  },
  "language_info": {
   "codemirror_mode": {
    "name": "ipython",
    "version": 3
   },
   "file_extension": ".py",
   "mimetype": "text/x-python",
   "name": "python",
   "nbconvert_exporter": "python",
   "pygments_lexer": "ipython3",
   "version": "3.10.18"
  }
 },
 "nbformat": 4,
 "nbformat_minor": 5
}
