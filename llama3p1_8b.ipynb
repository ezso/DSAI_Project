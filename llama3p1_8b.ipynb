{
  "nbformat": 4,
  "nbformat_minor": 0,
  "metadata": {
    "colab": {
      "provenance": [],
      "gpuType": "L4"
    },
    "kernelspec": {
      "name": "python3",
      "display_name": "Python 3"
    },
    "language_info": {
      "name": "python"
    },
    "accelerator": "GPU"
  },
  "cells": [
    {
      "cell_type": "code",
      "source": [
        "!pip install -U transformers kernels torch"
      ],
      "metadata": {
        "id": "DaE7PZwz6yIH"
      },
      "execution_count": null,
      "outputs": []
    },
    {
      "cell_type": "code",
      "source": [
        "import transformers\n",
        "import torch\n",
        "\n",
        "model_id = \"meta-llama/Meta-Llama-3.1-8B-Instruct\"\n",
        "\n",
        "pipeline = transformers.pipeline(\n",
        "    \"text-generation\",\n",
        "    model=model_id,\n",
        "    model_kwargs={\"torch_dtype\": torch.bfloat16},\n",
        "    device_map=\"auto\",\n",
        ")"
      ],
      "metadata": {
        "id": "LLU8oHUx4ePS"
      },
      "execution_count": null,
      "outputs": []
    },
    {
      "cell_type": "code",
      "source": [
        "terms = [\"Anarchismus\", \"Terrorismus\", \"Kommunismus\", \"Sozialismus\", \"Revolution\"]\n",
        "\n",
        "model_id = \"Llama-3.1-8b-instruct\"\n",
        "\n",
        "system_msg = (\n",
        "    \"SYSTEM MESSAGE:\\n\\n\"\n",
        "    \"The texts provided in the prompt are taken from OCR outputs of old newspapers. \"\n",
        "    \"Some characters in the OCR text may be misread (e.g., 'h' as 'n', 'd' as 'o', 's' as 'ſ', 'i' as 't', 'l' as 't'), \"\n",
        "    \"so you should be able to recognize and process these kinds of mistakes correctly. \"\n",
        "    \"You should also consider different cognates of a keyword as matched. For example, several word forms, \"\n",
        "    \"derivatives, and related terms of the German word 'Terrorismus' (terrorism): Terrorist, Terroranschlag, \"\n",
        "    \"Terrororganisation, Antiterrorkampf, terrorisieren, etc.\\n\\n\"\n",
        "    \"Give your answer in a strict JSON format without any extra additional words or signs as follows:\\n\"\n",
        "    \"{\\n\"\n",
        "    '  \"success\": boolean,\\n'\n",
        "    '  \"word1\": [],\\n'\n",
        "    '  \"word2\": [],\\n'\n",
        "    '  ...\\n'\n",
        "    '  \"wordn\": []\\n'\n",
        "    \"}\\n\\n\"\n",
        "    \"Example:\\n\"\n",
        "    \"If the query is {word1: \\\"Regelmäßig\\\", word2: \\\"Polizei\\\", word3: \\\"Terrorismus\\\"},\\n\"\n",
        "    \"the output JSON could be:\\n\"\n",
        "    \"{\\n\"\n",
        "    '  \"success\": true,\\n'\n",
        "    '  \"word1\": [\"Unregelmäßig\"],\\n'\n",
        "    '  \"word2\": [\"Polizisten\", \"Polizeiwagen\"],\\n'\n",
        "    '  \"word3\": []\\n'\n",
        "    \"}\\n\\n\"\n",
        "    \"or\\n\\n\"\n",
        "    \"{\\n\"\n",
        "    '  \"success\": false,\\n'\n",
        "    '  \"word1\": [],\\n'\n",
        "    '  \"word2\": [],\\n'\n",
        "    '  \"word3\": []\\n'\n",
        "    \"}\\n\\n\"\n",
        "    \"depending on the matches found.\\n\\n\"\n",
        "    \"SYSTEM MESSAGE END\\n\\n\"\n",
        ")"
      ],
      "metadata": {
        "id": "Igr_NpqeDsvR"
      },
      "execution_count": null,
      "outputs": []
    },
    {
      "cell_type": "code",
      "source": [
        "from main import main\n",
        "main(terms=terms, model_id=model_id, system_msg=system_msg, pipeline=pipeline)"
      ],
      "metadata": {
        "id": "NIkB_ktqDwkm"
      },
      "execution_count": null,
      "outputs": []
    }
  ]
}